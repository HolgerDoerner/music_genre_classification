{
 "cells": [
  {
   "cell_type": "code",
   "execution_count": 8,
   "metadata": {},
   "outputs": [
    {
     "name": "stderr",
     "output_type": "stream",
     "text": [
      "[nltk_data] Downloading package stopwords to\n",
      "[nltk_data]     C:\\Users\\holger.doerner\\AppData\\Roaming\\nltk_data...\n",
      "[nltk_data]   Package stopwords is already up-to-date!\n",
      "[nltk_data] Downloading package wordnet to\n",
      "[nltk_data]     C:\\Users\\holger.doerner\\AppData\\Roaming\\nltk_data...\n",
      "[nltk_data]   Package wordnet is already up-to-date!\n"
     ]
    },
    {
     "data": {
      "text/plain": [
       "True"
      ]
     },
     "execution_count": 8,
     "metadata": {},
     "output_type": "execute_result"
    }
   ],
   "source": [
    "import pandas as pd\n",
    "import numpy as np\n",
    "import matplotlib.pyplot as plt\n",
    "import sklearn\n",
    "from sklearn.preprocessing import LabelBinarizer\n",
    "from sklearn.model_selection import train_test_split\n",
    "from sklearn.multiclass import OneVsRestClassifier\n",
    "from sklearn.naive_bayes import MultinomialNB\n",
    "from sklearn.feature_extraction.text import TfidfVectorizer\n",
    "import nltk\n",
    "from nltk.corpus import stopwords\n",
    "from nltk.stem import WordNetLemmatizer\n",
    "import langdetect\n",
    "from scipy.stats import sem\n",
    "\n",
    "nltk.download('stopwords')\n",
    "nltk.download('wordnet')"
   ]
  },
  {
   "cell_type": "code",
   "execution_count": 9,
   "metadata": {},
   "outputs": [],
   "source": [
    "df = pd.read_csv('lyrics.csv')"
   ]
  },
  {
   "cell_type": "code",
   "execution_count": 494,
   "metadata": {},
   "outputs": [
    {
     "name": "stdout",
     "output_type": "stream",
     "text": [
      "                index    song    year  artist  lyrics\n",
      "genre                                                \n",
      "Country         17286   17286   17286   17286   14387\n",
      "Electronic      16205   16205   16205   16205    7966\n",
      "Folk             3241    3241    3241    3241    2243\n",
      "Hip-Hop         33965   33965   33965   33965   24850\n",
      "Indie            5732    5732    5732    5732    3149\n",
      "Jazz            17147   17145   17147   17147    7971\n",
      "Metal           28408   28408   28408   28408   23759\n",
      "Not Available   29814   29814   29814   29814   23941\n",
      "Other           23683   23683   23683   23683    5189\n",
      "Pop             49444   49444   49444   49444   40466\n",
      "R&B              5935    5935    5935    5935    3401\n",
      "Rock           131377  131377  131377  131377  109235\n"
     ]
    },
    {
     "data": {
      "image/png": "[encoded data removed]",
      "text/plain": [
       "<Figure size 1080x1080 with 1 Axes>"
      ]
     },
     "metadata": {
      "needs_background": "light"
     },
     "output_type": "display_data"
    }
   ],
   "source": [
    "df.groupby('genre')['genre'].count().plot(kind='bar', grid=True, figsize=(15,15))\n",
    "print(df.groupby('genre').count())"
   ]
  },
  {
   "cell_type": "code",
   "execution_count": 10,
   "metadata": {},
   "outputs": [],
   "source": [
    "from sklearn.base import BaseEstimator, TransformerMixin\n",
    "import re\n",
    "\n",
    "class column_selector(BaseEstimator, TransformerMixin):\n",
    "    def __init__(self, columns):\n",
    "        self.columns = columns\n",
    "    \n",
    "    def fit(self, X, y=None):\n",
    "        return self\n",
    "    \n",
    "    def transform(self, X, y=None):\n",
    "        return X[self.columns]\n",
    "    \n",
    "\n",
    "class genre_selector(BaseEstimator, TransformerMixin):\n",
    "    def __init__(self, genres):\n",
    "        self.genres = genres\n",
    "        \n",
    "    def fit(self, X, y=None):\n",
    "        return self\n",
    "    \n",
    "    def transform(self, X, y=None):\n",
    "        X = X[X['genre'].isin(self.genres)]\n",
    "        return X\n",
    "    \n",
    "    \n",
    "class remove_na(BaseEstimator, TransformerMixin):\n",
    "    def __init__(self, columns):\n",
    "        self.columns = columns\n",
    "    \n",
    "    def fit(self, X, y=None):\n",
    "        return self\n",
    "    \n",
    "    def transform(self, X, y=None):\n",
    "        if type(self.columns) is list:\n",
    "            for column in self.columns:\n",
    "                X = X[X[column].notnull()]\n",
    "        else:\n",
    "            X = X[X[self.columns].notnull()]\n",
    "        return X\n",
    "    \n",
    "    \n",
    "class clean_lyrics(BaseEstimator, TransformerMixin):\n",
    "    def __init__(self):\n",
    "        pass\n",
    "    \n",
    "    def fit(self, X, y=None):\n",
    "        return self\n",
    "    \n",
    "    def transform(self, X, y=None):\n",
    "        stemmer = WordNetLemmatizer()\n",
    "        # remove all special chars, symbols and numbers\n",
    "        X['lyrics'] = X['lyrics'].replace(r'[^A-Za-z]', ' ', regex=True)\n",
    "        # remove all single characters surrounded by whitepace\n",
    "        X['lyrics'] = X['lyrics'].replace(r'\\s+[a-zA-Z]\\s+', ' ', regex=True)\n",
    "        # remove single characters at beginning of text\n",
    "        X['lyrics'] = X['lyrics'].replace(r'\\^[a-zA-Z]\\s+', ' ', regex=True)\n",
    "        # replace repeated whitespaces with single whitespace\n",
    "        X['lyrics'] = X['lyrics'].replace(r'\\s+', ' ', regex=True, flags=re.I)\n",
    "        # replaces repeated chars by two ('aaaaaaah' => 'aah', 'helllloooooooo' => 'helloo')\n",
    "        X['lyrics'] = X['lyrics'].replace(r'(.)\\1{2,}', r'\\1\\1', regex=True, flags=re.I)\n",
    "        # converts all to lowercase\n",
    "        X['lyrics'] = X['lyrics'].str.lower()\n",
    "        # lemmatizes words ('am, are, is => be', 'car, cars, car's, cars' => car')\n",
    "        X['lyrics'] = X['lyrics'].map(lambda s: ' '.join([stemmer.lemmatize(w) for w in s.split()]))\n",
    "        # remove leading and trailing whitespaces\n",
    "        X['lyrics'] = X['lyrics'].str.strip()\n",
    "        return X\n",
    "    \n",
    "    \n",
    "class lyrics_length_selector(BaseEstimator, TransformerMixin):\n",
    "    def __init__(self, lyric_length=100):\n",
    "        self.lyric_length = lyric_length\n",
    "        \n",
    "    def fit(self, X, y=None):\n",
    "        return self\n",
    "    \n",
    "    def transform(self, X, y=None):\n",
    "        return X[X['word_count'] >= self.lyric_length]\n",
    "    \n",
    "    \n",
    "class mask_buzzwords(BaseEstimator, TransformerMixin):\n",
    "    def __init__(self, buzzwords, mask):\n",
    "        self.buzzwords = buzzwords\n",
    "        self.mask = mask\n",
    "        \n",
    "    def fit(self, X, y=None):\n",
    "        return self\n",
    "    \n",
    "    def transform(self, X, y=None):\n",
    "        for word in self.buzzwords:\n",
    "            X['lyrics'] = X['lyrics'].str.replace(word, self.mask, regex=True, flags=re.I)\n",
    "        return X\n",
    "    \n",
    "    \n",
    "class compute_word_count(BaseEstimator, TransformerMixin):\n",
    "    def __init__(self):\n",
    "        pass\n",
    "    \n",
    "    def fit(self, X, y=None):\n",
    "        return self\n",
    "    \n",
    "    def transform(self, X, y=None):\n",
    "        X['word_count'] = X['lyrics'].map(lambda s: len(s.split()))\n",
    "        return X\n",
    "    \n",
    "    \n",
    "class detect_language(BaseEstimator, TransformerMixin):\n",
    "    def __init__(self):\n",
    "        pass\n",
    "    \n",
    "    def _compute(self, sentence):\n",
    "        lang = ''\n",
    "        try:\n",
    "            lang = langdetect.detect(sentence)\n",
    "        except:\n",
    "            lang = 'unknown'\n",
    "        return lang\n",
    "    def fit(self, X, y=None):\n",
    "        return self\n",
    "    \n",
    "    def transform(self, X, y=None):\n",
    "        X['language'] = X['lyrics'].map(self._compute)\n",
    "        return X\n",
    "    \n",
    "    \n",
    "class select_language(BaseEstimator, TransformerMixin):\n",
    "    def __init__(self, languages=['en'], exclude=False):\n",
    "        self.languages = languages\n",
    "        self.exclude = exclude\n",
    "    \n",
    "    def fit(self, X, y=None):\n",
    "        return self\n",
    "    \n",
    "    def transform(self, X, y=None):\n",
    "        if not self.exclude:\n",
    "            X = X[X['language'].isin(self.languages)]\n",
    "        else:\n",
    "            X = X[~X['language'].isin(self.languages)]\n",
    "        return X\n",
    "    \n",
    "    \n",
    "class remove_duplicates(BaseEstimator, TransformerMixin):\n",
    "    def __init__(self, columns):\n",
    "        self.columns = columns\n",
    "    \n",
    "    def fit(self, X, y=None):\n",
    "        return self\n",
    "    \n",
    "    def transform(self, X, y=None):\n",
    "        if type(self.columns) is list:\n",
    "            for column in self.columns:\n",
    "                X = X.drop_duplicates(subset=column, keep='first')\n",
    "        else:\n",
    "            X = X.drop_duplicates(subset=self.columns, keep='first')\n",
    "        return X\n",
    "    \n",
    "    \n",
    "class normalize_genre_to_lower(BaseEstimator, TransformerMixin):\n",
    "    def __init__(self):\n",
    "        pass\n",
    "    \n",
    "    def fit(self, X, y=None):\n",
    "        return self\n",
    "    \n",
    "    def transform(self, X, y=None):\n",
    "        X['genre'] = X['genre'].map(lambda s: s.lower())\n",
    "        return X"
   ]
  },
  {
   "cell_type": "code",
   "execution_count": 11,
   "metadata": {},
   "outputs": [],
   "source": [
    "from sklearn.pipeline import Pipeline, FeatureUnion\n",
    "\n",
    "genres = ['Pop', 'Hip-Hop', 'Rock', 'Metal', 'Country', 'Jazz', 'Electronic', 'Folk', 'R&B', 'Indie']\n",
    "\n",
    "preprocess_pipeline = Pipeline([\n",
    "    ('remove_na', remove_na(columns=['lyrics', 'genre'])),\n",
    "    ('remove_duplicates', remove_duplicates(columns=['song', 'lyrics'])),\n",
    "    ('column_selector', column_selector(columns=['lyrics', 'genre'])),\n",
    "    ('genre_selector', genre_selector(genres=genres)),\n",
    "    ('clean_lyrics', clean_lyrics()),\n",
    "    ('mask_buzzwords', mask_buzzwords(buzzwords=genres, mask='')),\n",
    "    ('compute_word_count', compute_word_count()),\n",
    "    ('detect_language', detect_language()),\n",
    "    ('select_language', select_language(languages=['en'], exclude=False)),\n",
    "    ('lyrics_length_selector', lyrics_length_selector(lyric_length=100)),\n",
    "    ('normalize_genre_to_lower', normalize_genre_to_lower())\n",
    "])"
   ]
  },
  {
   "cell_type": "code",
   "execution_count": 12,
   "metadata": {},
   "outputs": [],
   "source": [
    "# df_cleaned = preprocess_pipeline.fit_transform(df)\n",
    "# df_cleaned.to_csv('lyrics_cleaned.csv', index=None, header=True)\n",
    "\n",
    "df_cleaned = pd.read_csv('lyrics_cleaned.csv')"
   ]
  },
  {
   "cell_type": "code",
   "execution_count": 13,
   "metadata": {},
   "outputs": [
    {
     "name": "stdout",
     "output_type": "stream",
     "text": [
      "genre\n",
      "country        8619\n",
      "electronic     3423\n",
      "folk           2905\n",
      "hip-hop       16320\n",
      "jazz           2993\n",
      "metal         12881\n",
      "pop           18192\n",
      "rock          57066\n",
      "Name: genre, dtype: int64\n"
     ]
    },
    {
     "data": {
      "image/png": "[encoded data removed]",
      "text/plain": [
       "<Figure size 1080x720 with 1 Axes>"
      ]
     },
     "metadata": {
      "needs_background": "light"
     },
     "output_type": "display_data"
    }
   ],
   "source": [
    "df_cleaned.groupby('genre')['genre'].count().plot(kind='bar', figsize=(15,10), grid=True, subplots=True)\n",
    "print(df_cleaned.groupby('genre')['genre'].count())"
   ]
  },
  {
   "cell_type": "markdown",
   "metadata": {},
   "source": [
    "## Feature Engineering"
   ]
  },
  {
   "cell_type": "markdown",
   "metadata": {},
   "source": [
    "### Combining classes"
   ]
  },
  {
   "cell_type": "code",
   "execution_count": 164,
   "metadata": {},
   "outputs": [],
   "source": [
    "df_cleaned.loc[df_cleaned['genre'] == 'r&b', 'genre'] = 'hip-hop'\n",
    "df_cleaned.loc[df_cleaned['genre'] == 'indie', 'genre'] = 'folk'"
   ]
  },
  {
   "cell_type": "markdown",
   "metadata": {},
   "source": [
    "### Saving the cleaned dataset to file for re-use"
   ]
  },
  {
   "cell_type": "code",
   "execution_count": 167,
   "metadata": {},
   "outputs": [],
   "source": [
    "df_cleaned.to_csv('lyrics_cleaned.csv', index=None, header=True)"
   ]
  },
  {
   "cell_type": "markdown",
   "metadata": {},
   "source": [
    "### Subsampling 2900 random lyrics for each genre\n",
    "2900 because it is (almost) the maximum number of the smalest category"
   ]
  },
  {
   "cell_type": "code",
   "execution_count": 14,
   "metadata": {},
   "outputs": [],
   "source": [
    "df_sampled = df_cleaned.groupby('genre').apply(lambda genre: genre.sample(2900, replace=False, random_state=666)).reset_index(level=0, drop=True).reset_index()"
   ]
  },
  {
   "cell_type": "code",
   "execution_count": 15,
   "metadata": {},
   "outputs": [
    {
     "data": {
      "text/plain": [
       "array([<matplotlib.axes._subplots.AxesSubplot object at 0x0000018999A753C8>],\n",
       "      dtype=object)"
      ]
     },
     "execution_count": 15,
     "metadata": {},
     "output_type": "execute_result"
    },
    {
     "data": {
      "image/png": "[encoded data removed]",
      "text/plain": [
       "<Figure size 1080x360 with 1 Axes>"
      ]
     },
     "metadata": {
      "needs_background": "light"
     },
     "output_type": "display_data"
    }
   ],
   "source": [
    "fig = df_cleaned.groupby('genre')['genre'].count().plot(kind='barh', figsize=(15,5), grid=True, subplots=True, stacked=True)\n",
    "df_sampled.groupby('genre')['genre'].count().plot(kind='barh', figsize=(15,10), grid=True, subplots=True, ax=fig, color='cyan')"
   ]
  },
  {
   "cell_type": "markdown",
   "metadata": {},
   "source": [
    "### Concatinate the lyrics from each genre to get one large document per genre"
   ]
  },
  {
   "cell_type": "code",
   "execution_count": 19,
   "metadata": {},
   "outputs": [],
   "source": [
    "df_sampled_concat = df_sampled.groupby('genre').apply(lambda s: ' '.join(s.lyrics)).reset_index()[0]"
   ]
  },
  {
   "cell_type": "markdown",
   "metadata": {},
   "source": [
    "### Evaluating and fitting esteminators\n",
    "\n",
    "Since we use a pipeline and an RandomizedSearchCV to tune the the hyper-parameters for both the TFIDFVectorizer and the SGDClassifier (8 of them, one per class, wrapped in an OneVsRestClassifier), the result will be optimized and fully fitted estimators. This means that we can serialize the whole pipeline object afterwards and use it as-is."
   ]
  },
  {
   "cell_type": "markdown",
   "metadata": {},
   "source": [
    "#### TFIDFVectorizer, OneVsRestClassifier, SGDClassifier"
   ]
  },
  {
   "cell_type": "code",
   "execution_count": 20,
   "metadata": {},
   "outputs": [
    {
     "name": "stdout",
     "output_type": "stream",
     "text": [
      "Fitting 10 folds for each of 10 candidates, totalling 100 fits\n"
     ]
    },
    {
     "name": "stderr",
     "output_type": "stream",
     "text": [
      "[Parallel(n_jobs=-1)]: Using backend LokyBackend with 4 concurrent workers.\n",
      "[Parallel(n_jobs=-1)]: Done  28 tasks      | elapsed:  2.6min\n",
      "[Parallel(n_jobs=-1)]: Done 100 out of 100 | elapsed:  9.2min finished\n"
     ]
    },
    {
     "data": {
      "text/plain": [
       "RandomizedSearchCV(cv=10, error_score=nan,\n",
       "                   estimator=Pipeline(memory=None,\n",
       "                                      steps=[('vect',\n",
       "                                              TfidfVectorizer(analyzer='word',\n",
       "                                                              binary=False,\n",
       "                                                              decode_error='strict',\n",
       "                                                              dtype=<class 'numpy.float64'>,\n",
       "                                                              encoding='utf-8',\n",
       "                                                              input='content',\n",
       "                                                              lowercase=True,\n",
       "                                                              max_df=1.0,\n",
       "                                                              max_features=None,\n",
       "                                                              min_df=1,\n",
       "                                                              ngram_range=(1,\n",
       "                                                                           1),\n",
       "                                                              norm='l2',\n",
       "                                                              preprocessor=None,\n",
       "                                                              smooth_idf=True,\n",
       "                                                              stop_words=None,\n",
       "                                                              str...\n",
       "                                                               5000),\n",
       "                                        'vect__stop_words': (['i', 'me', 'my',\n",
       "                                                              'myself', 'we',\n",
       "                                                              'our', 'ours',\n",
       "                                                              'ourselves',\n",
       "                                                              'you', \"you're\",\n",
       "                                                              \"you've\",\n",
       "                                                              \"you'll\", \"you'd\",\n",
       "                                                              'your', 'yours',\n",
       "                                                              'yourself',\n",
       "                                                              'yourselves',\n",
       "                                                              'he', 'him',\n",
       "                                                              'his', 'himself',\n",
       "                                                              'she', \"she's\",\n",
       "                                                              'her', 'hers',\n",
       "                                                              'herself', 'it',\n",
       "                                                              \"it's\", 'its',\n",
       "                                                              'itself', ...],)},\n",
       "                   pre_dispatch=4, random_state=None, refit=True,\n",
       "                   return_train_score=False, scoring=None, verbose=3)"
      ]
     },
     "execution_count": 20,
     "metadata": {},
     "output_type": "execute_result"
    }
   ],
   "source": [
    "from sklearn.linear_model import SGDClassifier\n",
    "from sklearn.model_selection import RandomizedSearchCV\n",
    "from sklearn.model_selection import GridSearchCV\n",
    "from sklearn.pipeline import Pipeline\n",
    "\n",
    "params = {\n",
    "    'clf__estimator__loss': ('hinge',),\n",
    "    'clf__estimator__penalty': ('l2',),\n",
    "    'clf__estimator__alpha': (0.00000001, 0.0000001, 0.000001, 0.00001),\n",
    "    'clf__estimator__max_iter': (500, 1000, 2000, 3000),\n",
    "    'clf__estimator__tol': (1e-3,),\n",
    "    'clf__estimator__shuffle': (True,),\n",
    "    'clf__estimator__warm_start': (False,),\n",
    "    'vect__max_df': (0.3, 0.4, 0.5, 0.6, 0.7, 0.8, 0.9, 1.0),\n",
    "    'vect__max_features': (1500, 2000, 2500, 3000, 4000, 5000),\n",
    "    'vect__stop_words': (stopwords.words(['english']),),\n",
    "}\n",
    "\n",
    "pipeline = Pipeline([\n",
    "    ('vect', TfidfVectorizer()),\n",
    "    ('clf', OneVsRestClassifier(SGDClassifier()))\n",
    "])\n",
    "\n",
    "X_train_sgd, X_test_sgd, y_train_sgd, y_test_sgd = train_test_split(df_sampled['lyrics'], df_sampled['genre'], test_size=0.1, random_state=42, stratify=df_sampled['genre'])\n",
    "\n",
    "clf_pipeline_sgd = RandomizedSearchCV(pipeline, param_distributions=params, pre_dispatch=4, n_jobs=-1,\n",
    "                                   cv=10, error_score=np.nan, refit=True, verbose=3)\n",
    "clf_pipeline_sgd.fit(df_sampled['lyrics'], df_sampled['genre'])"
   ]
  },
  {
   "cell_type": "code",
   "execution_count": 21,
   "metadata": {},
   "outputs": [
    {
     "name": "stdout",
     "output_type": "stream",
     "text": [
      "Train set:  0.7106800766283525\n",
      "Test set:  0.7125\n"
     ]
    },
    {
     "data": {
      "text/plain": [
       "{'vect__stop_words': ['i',\n",
       "  'me',\n",
       "  'my',\n",
       "  'myself',\n",
       "  'we',\n",
       "  'our',\n",
       "  'ours',\n",
       "  'ourselves',\n",
       "  'you',\n",
       "  \"you're\",\n",
       "  \"you've\",\n",
       "  \"you'll\",\n",
       "  \"you'd\",\n",
       "  'your',\n",
       "  'yours',\n",
       "  'yourself',\n",
       "  'yourselves',\n",
       "  'he',\n",
       "  'him',\n",
       "  'his',\n",
       "  'himself',\n",
       "  'she',\n",
       "  \"she's\",\n",
       "  'her',\n",
       "  'hers',\n",
       "  'herself',\n",
       "  'it',\n",
       "  \"it's\",\n",
       "  'its',\n",
       "  'itself',\n",
       "  'they',\n",
       "  'them',\n",
       "  'their',\n",
       "  'theirs',\n",
       "  'themselves',\n",
       "  'what',\n",
       "  'which',\n",
       "  'who',\n",
       "  'whom',\n",
       "  'this',\n",
       "  'that',\n",
       "  \"that'll\",\n",
       "  'these',\n",
       "  'those',\n",
       "  'am',\n",
       "  'is',\n",
       "  'are',\n",
       "  'was',\n",
       "  'were',\n",
       "  'be',\n",
       "  'been',\n",
       "  'being',\n",
       "  'have',\n",
       "  'has',\n",
       "  'had',\n",
       "  'having',\n",
       "  'do',\n",
       "  'does',\n",
       "  'did',\n",
       "  'doing',\n",
       "  'a',\n",
       "  'an',\n",
       "  'the',\n",
       "  'and',\n",
       "  'but',\n",
       "  'if',\n",
       "  'or',\n",
       "  'because',\n",
       "  'as',\n",
       "  'until',\n",
       "  'while',\n",
       "  'of',\n",
       "  'at',\n",
       "  'by',\n",
       "  'for',\n",
       "  'with',\n",
       "  'about',\n",
       "  'against',\n",
       "  'between',\n",
       "  'into',\n",
       "  'through',\n",
       "  'during',\n",
       "  'before',\n",
       "  'after',\n",
       "  'above',\n",
       "  'below',\n",
       "  'to',\n",
       "  'from',\n",
       "  'up',\n",
       "  'down',\n",
       "  'in',\n",
       "  'out',\n",
       "  'on',\n",
       "  'off',\n",
       "  'over',\n",
       "  'under',\n",
       "  'again',\n",
       "  'further',\n",
       "  'then',\n",
       "  'once',\n",
       "  'here',\n",
       "  'there',\n",
       "  'when',\n",
       "  'where',\n",
       "  'why',\n",
       "  'how',\n",
       "  'all',\n",
       "  'any',\n",
       "  'both',\n",
       "  'each',\n",
       "  'few',\n",
       "  'more',\n",
       "  'most',\n",
       "  'other',\n",
       "  'some',\n",
       "  'such',\n",
       "  'no',\n",
       "  'nor',\n",
       "  'not',\n",
       "  'only',\n",
       "  'own',\n",
       "  'same',\n",
       "  'so',\n",
       "  'than',\n",
       "  'too',\n",
       "  'very',\n",
       "  's',\n",
       "  't',\n",
       "  'can',\n",
       "  'will',\n",
       "  'just',\n",
       "  'don',\n",
       "  \"don't\",\n",
       "  'should',\n",
       "  \"should've\",\n",
       "  'now',\n",
       "  'd',\n",
       "  'll',\n",
       "  'm',\n",
       "  'o',\n",
       "  're',\n",
       "  've',\n",
       "  'y',\n",
       "  'ain',\n",
       "  'aren',\n",
       "  \"aren't\",\n",
       "  'couldn',\n",
       "  \"couldn't\",\n",
       "  'didn',\n",
       "  \"didn't\",\n",
       "  'doesn',\n",
       "  \"doesn't\",\n",
       "  'hadn',\n",
       "  \"hadn't\",\n",
       "  'hasn',\n",
       "  \"hasn't\",\n",
       "  'haven',\n",
       "  \"haven't\",\n",
       "  'isn',\n",
       "  \"isn't\",\n",
       "  'ma',\n",
       "  'mightn',\n",
       "  \"mightn't\",\n",
       "  'mustn',\n",
       "  \"mustn't\",\n",
       "  'needn',\n",
       "  \"needn't\",\n",
       "  'shan',\n",
       "  \"shan't\",\n",
       "  'shouldn',\n",
       "  \"shouldn't\",\n",
       "  'wasn',\n",
       "  \"wasn't\",\n",
       "  'weren',\n",
       "  \"weren't\",\n",
       "  'won',\n",
       "  \"won't\",\n",
       "  'wouldn',\n",
       "  \"wouldn't\"],\n",
       " 'vect__max_features': 5000,\n",
       " 'vect__max_df': 0.4,\n",
       " 'clf__estimator__warm_start': False,\n",
       " 'clf__estimator__tol': 0.001,\n",
       " 'clf__estimator__shuffle': True,\n",
       " 'clf__estimator__penalty': 'l2',\n",
       " 'clf__estimator__max_iter': 1000,\n",
       " 'clf__estimator__loss': 'hinge',\n",
       " 'clf__estimator__alpha': 1e-05}"
      ]
     },
     "execution_count": 21,
     "metadata": {},
     "output_type": "execute_result"
    }
   ],
   "source": [
    "print('Train set: ', clf_pipeline_sgd.score(X_train_sgd, y_train_sgd))\n",
    "print('Test set: ', clf_pipeline_sgd.score(X_test_sgd, y_test_sgd))\n",
    "clf_pipeline_sgd.best_params_"
   ]
  },
  {
   "cell_type": "code",
   "execution_count": 32,
   "metadata": {},
   "outputs": [
    {
     "data": {
      "text/plain": [
       "array(['country', 'electronic', 'folk', 'hip-hop', 'jazz', 'metal', 'pop',\n",
       "       'rock'], dtype='<U10')"
      ]
     },
     "execution_count": 32,
     "metadata": {},
     "output_type": "execute_result"
    }
   ],
   "source": [
    "clf_pipeline_sgd.best_estimator_.steps[1][1].label_binarizer_.classes_"
   ]
  },
  {
   "cell_type": "code",
   "execution_count": 66,
   "metadata": {},
   "outputs": [
    {
     "data": {
      "text/plain": [
       "{'country': 'black',\n",
       " 'electronic': 'green',\n",
       " 'folk': 'white',\n",
       " 'hip-hop': 'blue',\n",
       " 'jazz': 'yellow',\n",
       " 'metal': 'magenta',\n",
       " 'pop': 'red',\n",
       " 'rock': 'cyan'}"
      ]
     },
     "execution_count": 66,
     "metadata": {},
     "output_type": "execute_result"
    }
   ],
   "source": [
    "cmap = {\n",
    "    'blue',\n",
    "    'green',\n",
    "    'red',\n",
    "    'cyan',\n",
    "    'magenta',\n",
    "    'yellow',\n",
    "    'black',\n",
    "    'white'\n",
    "}\n",
    "t = zip(cmap, clf_pipeline_sgd.best_estimator_.steps[1][1].label_binarizer_.classes_)\n",
    "o = {}\n",
    "for a, b in t:\n",
    "    o.setdefault(b, a)\n",
    "o"
   ]
  },
  {
   "cell_type": "markdown",
   "metadata": {},
   "source": [
    "### Vizualize the TF-IDF vectors\n",
    "Scatter-plotting the TF-IDF vectors of the testing-set."
   ]
  },
  {
   "cell_type": "code",
   "execution_count": null,
   "metadata": {},
   "outputs": [],
   "source": [
    "from sklearn.decomposition import PCA\n",
    "from sklearn.manifold import TSNE\n",
    "from sklearn.decomposition import TruncatedSVD\n",
    "from sklearn.preprocessing import LabelEncoder\n",
    "from sklearn.cluster import KMeans\n",
    "\n",
    "X = clf_pipeline_sgd.best_estimator_.steps[0][1].transform(X_train_sgd)\n",
    "\n",
    "NUMBER_OF_CLUSTERS = 8\n",
    "km = KMeans(\n",
    "    n_clusters=NUMBER_OF_CLUSTERS, \n",
    "    init='k-means++', \n",
    "    max_iter=1000,\n",
    "    n_jobs=-1)\n",
    "km.fit(X)\n",
    "\n",
    "clusters = km.predict(X)\n",
    "\n",
    "# X_reduced = TruncatedSVD(n_components=8).fit_transform(X.todense())\n",
    "# two_dim = TSNE(n_components=2, perplexity=30, verbose=2).fit_transform(X_reduced)\n",
    "\n",
    "two_dim = PCA(n_components=2).fit_transform(X.todense())\n",
    "\n",
    "scatter_x = two_dim[:, 0]\n",
    "scatter_y = two_dim[:, 1]\n",
    "\n",
    "plt.style.use('ggplot')\n",
    "\n",
    "fig, ax = plt.subplots()\n",
    "fig.set_size_inches(20,10)\n",
    "\n",
    "# color map for NUMBER_OF_CLUSTERS we have\n",
    "cmap = {\n",
    "    0: 'blue',\n",
    "    1: 'green',\n",
    "    2: 'red',\n",
    "    3: 'cyan',\n",
    "    4: 'magenta',\n",
    "    5: 'yellow',\n",
    "    6: 'black',\n",
    "    7: 'white'\n",
    "}\n",
    "\n",
    "labels = clf_pipeline_sgd.best_estimator_.steps[1][1].label_binarizer_.classes_\n",
    "\n",
    "# group by clusters and scatter plot every cluster\n",
    "# with a colour and a label\n",
    "for group, label in zip(np.unique(clusters), labels):\n",
    "    ix = np.where(clusters == group)\n",
    "    ax.scatter(scatter_x[ix], scatter_y[ix], c=cmap[group], label=label, marker=\"x\")\n",
    "\n",
    "ax.legend()\n",
    "plt.xlabel(\"PCA 0\")\n",
    "plt.ylabel(\"PCA 1\")"
   ]
  },
  {
   "cell_type": "markdown",
   "metadata": {},
   "source": [
    "### Visualize the predicted labels against the true ones."
   ]
  },
  {
   "cell_type": "code",
   "execution_count": 68,
   "metadata": {},
   "outputs": [
    {
     "data": {
      "text/plain": [
       "<matplotlib.axes._subplots.AxesSubplot at 0x189cd8daef0>"
      ]
     },
     "execution_count": 68,
     "metadata": {},
     "output_type": "execute_result"
    },
    {
     "data": {
      "image/png": "[encoded data removed]",
      "text/plain": [
       "<Figure size 720x720 with 2 Axes>"
      ]
     },
     "metadata": {},
     "output_type": "display_data"
    }
   ],
   "source": [
    "from sklearn.metrics import confusion_matrix\n",
    "import seaborn as sn\n",
    "\n",
    "y = clf_pipeline_sgd.best_estimator_.steps[1][1].classes_\n",
    "\n",
    "y_pred = clf_pipeline_sgd.predict(X_test_sgd)\n",
    "y_true = y_test_sgd\n",
    "\n",
    "cm = confusion_matrix(y_true, y_pred)\n",
    "df_cm = pd.DataFrame(cm, index=y, columns=y)\n",
    "\n",
    "# normalizing the values\n",
    "df_cm = (df_cm - df_cm.mean()) / df_cm.std()\n",
    "\n",
    "fig, ax = plt.subplots(figsize=(10,10))\n",
    "sn.heatmap(df_cm, annot=True, ax=ax)"
   ]
  },
  {
   "cell_type": "markdown",
   "metadata": {},
   "source": [
    "## Testing the trained model with real-world data"
   ]
  },
  {
   "cell_type": "code",
   "execution_count": 22,
   "metadata": {},
   "outputs": [
    {
     "name": "stdin",
     "output_type": "stream",
     "text": [
      " From the mist, a shape, a ship, is taking form And the silence of the sea is about to drift into a storm Sign of power, show of force Raise the anchor, battleship's plotting its course Pride of a nation, a beast made of steel Bismarck in motion, king of the ocean He was made to rule the waves across the seven seas To lead the war machine To rule the waves and lead the Kriegsmarine The terror of the seas The Bismarck and the Kriegsmarine Two thousand men, and fifty thousand tons of steel Set the course for the Atlantic with the Allies on their heel Firepower, firefight Battle Stations, keep the targets steady in sight Into formation, the hunt has begun Death and damnation, the fleet is coming He was made to rule the waves across the seven seas\n"
     ]
    },
    {
     "name": "stdout",
     "output_type": "stream",
     "text": [
      "\n",
      ">>>  metal\n"
     ]
    }
   ],
   "source": [
    "lyrics = input()\n",
    "\n",
    "lyrics = re.sub(r'[^A-Za-z]', ' ', lyrics)\n",
    "# remove all single characters surrounded by whitepace\n",
    "lyrics = re.sub(r'\\s+[a-zA-Z]\\s+', ' ', lyrics)\n",
    "# remove single characters at beginning of text\n",
    "lyrics = re.sub(r'\\^[a-zA-Z]\\s+', ' ', lyrics)\n",
    "# replace repeated whitespaces with single whitespace\n",
    "lyrics = re.sub(r'\\s+', ' ', lyrics, flags=re.I)\n",
    "# replaces repeated chars by two ('aaaaaaah' => 'aah', 'helllloooooooo' => 'helloo')\n",
    "lyrics = re.sub(r'(.)\\1{2,}', r'\\1\\1', lyrics, flags=re.I)\n",
    "# converts all to lowercase\n",
    "lyrics = lyrics.lower()\n",
    "# lemmatizes words ('am, are, is => be', 'car, cars, car's, cars' => car')\n",
    "lyrics = ' '.join([WordNetLemmatizer().lemmatize(w) for w in lyrics.split()])\n",
    "# remove leading and trailing whitespaces\n",
    "lyrics = lyrics.strip()\n",
    "\n",
    "# lyrics = clf_pipeline_sgd.best_estimator_.steps[0][1].transform([lyrics])\n",
    "pred = clf_pipeline_sgd.best_estimator_.predict([lyrics])\n",
    "print('>>> ', pred[0])"
   ]
  },
  {
   "cell_type": "markdown",
   "metadata": {},
   "source": [
    "## Saving the classifier\n",
    "Since the classifier is actualy a pipeline (TFIDFVectorizer -> OneVsRestClassifier -> SGDClassifier), we only need one export. We also export it directly into the folder of our backend-service so it will be copyed to the docker container when build. This also makes updating the container easier when the model gets updated.\n",
    "\n",
    "**Note:** the OneVsRestClassifier also has an embeded LabelBinarizer to one-hot encode the class labels."
   ]
  },
  {
   "cell_type": "code",
   "execution_count": 23,
   "metadata": {},
   "outputs": [
    {
     "data": {
      "text/plain": [
       "['backend\\\\clf_pipeline_sgd.joblib']"
      ]
     },
     "execution_count": 23,
     "metadata": {},
     "output_type": "execute_result"
    }
   ],
   "source": [
    "import joblib\n",
    "from pathlib import Path\n",
    "\n",
    "target_dir = 'backend'\n",
    "target_file = 'clf_pipeline_sgd'\n",
    "target_suffix = '.joblib'\n",
    "path = Path(target_dir, target_file).with_suffix(target_suffix)\n",
    "\n",
    "joblib.dump(clf_pipeline_sgd, path)"
   ]
  }
 ],
 "metadata": {
  "kernelspec": {
   "display_name": "Python 3",
   "language": "python",
   "name": "python3"
  },
  "language_info": {
   "codemirror_mode": {
    "name": "ipython",
    "version": 3
   },
   "file_extension": ".py",
   "mimetype": "text/x-python",
   "name": "python",
   "nbconvert_exporter": "python",
   "pygments_lexer": "ipython3",
   "version": "3.7.3"
  }
 },
 "nbformat": 4,
 "nbformat_minor": 2
}
